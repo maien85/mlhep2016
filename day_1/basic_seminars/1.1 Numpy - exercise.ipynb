{
 "cells": [
  {
   "cell_type": "markdown",
   "metadata": {
    "slideshow": {
     "slide_type": "slide"
    }
   },
   "source": [
    "# NumPy Exercises\n",
    "due to Petr Romov"
   ]
  },
  {
   "cell_type": "code",
   "execution_count": 5,
   "metadata": {
    "collapsed": true,
    "slideshow": {
     "slide_type": "skip"
    }
   },
   "outputs": [],
   "source": [
    "import numpy as np"
   ]
  },
  {
   "cell_type": "code",
   "execution_count": 6,
   "metadata": {
    "collapsed": true
   },
   "outputs": [],
   "source": [
    "np.random.seed(0)\n",
    "b=np.random.normal(1,10,size=(1000,50))\n",
    "b2 =abs((b-np.mean(b))/np.std(b))"
   ]
  },
  {
   "cell_type": "markdown",
   "metadata": {
    "slideshow": {
     "slide_type": "subslide"
    }
   },
   "source": [
    "SELF. Generate a matrix with 1000 rows and 50 columns, elements being drawn from normal distribution $\\mathcal{N}(1, 10)$. Specify random seed to make the result reproducible. Use http://docs.scipy.org/doc/numpy/reference/routines.random.html"
   ]
  },
  {
   "cell_type": "markdown",
   "metadata": {
    "slideshow": {
     "slide_type": "subslide"
    }
   },
   "source": [
    "SELF. Normalize the matrix: subtract from each column its mean and divide by the standard deviation. I suggest np.mean, np.std with axis parameter."
   ]
  },
  {
   "cell_type": "markdown",
   "metadata": {
    "slideshow": {
     "slide_type": "subslide"
    }
   },
   "source": [
    "Print for the following matrix row numbers for those rows, where element sum is greater than 10. I suggest np.sum and np.nonzero"
   ]
  },
  {
   "cell_type": "code",
   "execution_count": 4,
   "metadata": {
    "collapsed": false
   },
   "outputs": [],
   "source": [
    "Z = np.array([[4, 5, 0],\n",
    "              [1, 9, 3],\n",
    "              [5, 1, 1],\n",
    "              [3, 3, 3],\n",
    "              [9, 9, 9],\n",
    "              [4, 7, 1]])"
   ]
  },
  {
   "cell_type": "markdown",
   "metadata": {},
   "source": [
    "Write a python function to get N largest values from a 1D or 2D array. It should accept as a mandatory parameter N - the number of values to return and optional axis. If axis is not specified, use the flattened array, if specified - return a matrix with N maximum values for each row or column (depends on the axis). BONUS - allow arrays of arbitary dimensions, axis should work as in https://docs.scipy.org/doc/numpy/reference/generated/numpy.amax.html#numpy.amax"
   ]
  }
 ],
 "metadata": {
  "celltoolbar": "Slideshow",
  "kernelspec": {
   "display_name": "Python 2",
   "language": "python",
   "name": "python2"
  },
  "language_info": {
   "codemirror_mode": {
    "name": "ipython",
    "version": 2
   },
   "file_extension": ".py",
   "mimetype": "text/x-python",
   "name": "python",
   "nbconvert_exporter": "python",
   "pygments_lexer": "ipython2",
   "version": "2.7.11"
  }
 },
 "nbformat": 4,
 "nbformat_minor": 0
}
